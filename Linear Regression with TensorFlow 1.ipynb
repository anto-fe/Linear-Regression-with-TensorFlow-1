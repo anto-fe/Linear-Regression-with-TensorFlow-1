{
 "cells": [
  {
   "cell_type": "markdown",
   "metadata": {},
   "source": [
    "# Linear Regression with Tensorflow"
   ]
  },
  {
   "cell_type": "markdown",
   "metadata": {},
   "source": [
    "## Linear Regression using Normal Equation"
   ]
  },
  {
   "cell_type": "markdown",
   "metadata": {},
   "source": [
    "Determine $\\hat{\\theta}$ directly using the Normal Equation:\n",
    "\n",
    "$$\n",
    "\\hat{\\theta} = (X^T \\cdot X)^{-1} \\cdot X^T \\cdot y .\n",
    "$$"
   ]
  },
  {
   "cell_type": "code",
   "execution_count": 68,
   "metadata": {},
   "outputs": [
    {
     "data": {
      "text/plain": [
       "(20640, 8)"
      ]
     },
     "execution_count": 68,
     "metadata": {},
     "output_type": "execute_result"
    }
   ],
   "source": [
    "import numpy as np\n",
    "import tensorflow as tf\n",
    "from sklearn.datasets import fetch_california_housing\n",
    "\n",
    "housing = fetch_california_housing()\n",
    "# Get dataset dimensions\n",
    "m, n = housing.data.shape\n",
    "m, n"
   ]
  },
  {
   "cell_type": "code",
   "execution_count": 4,
   "metadata": {},
   "outputs": [
    {
     "name": "stdout",
     "output_type": "stream",
     "text": [
      "[   8.3252       41.            6.98412698    1.02380952  322.\n",
      "    2.55555556   37.88       -122.23      ]\n"
     ]
    },
    {
     "data": {
      "text/plain": [
       "array([ 4.526,  3.585,  3.521, ...,  0.923,  0.847,  0.894])"
      ]
     },
     "execution_count": 4,
     "metadata": {},
     "output_type": "execute_result"
    }
   ],
   "source": [
    "print(housing.data[0])\n",
    "\n",
    "housing.target"
   ]
  },
  {
   "cell_type": "code",
   "execution_count": 5,
   "metadata": {},
   "outputs": [
    {
     "data": {
      "text/plain": [
       "array([   1.        ,    8.3252    ,   41.        ,    6.98412698,\n",
       "          1.02380952,  322.        ,    2.55555556,   37.88      , -122.23      ])"
      ]
     },
     "execution_count": 5,
     "metadata": {},
     "output_type": "execute_result"
    }
   ],
   "source": [
    "housing_data_plus_bias = np.c_[np.ones((m,1)), housing.data]\n",
    "housing_data_plus_bias[0]"
   ]
  },
  {
   "cell_type": "code",
   "execution_count": 7,
   "metadata": {
    "collapsed": true
   },
   "outputs": [],
   "source": [
    "# Define two constants\n",
    "X = tf.constant(housing_data_plus_bias, dtype=tf.float32, name=\"X\")\n",
    "y = tf.constant(housing.target.reshape(-1,1), dtype=tf.float32, name=\"y\")\n",
    "# Get the transpose of X\n",
    "XT = tf.transpose(X)\n",
    "# Using the normal equation\n",
    "theta = tf.matmul(tf.matmul(tf.matrix_inverse(tf.matmul(XT, X)), XT), y)"
   ]
  },
  {
   "cell_type": "code",
   "execution_count": 8,
   "metadata": {
    "scrolled": true
   },
   "outputs": [
    {
     "data": {
      "text/plain": [
       "array([[ -3.74651413e+01],\n",
       "       [  4.35734153e-01],\n",
       "       [  9.33829229e-03],\n",
       "       [ -1.06622010e-01],\n",
       "       [  6.44106984e-01],\n",
       "       [ -4.25131839e-06],\n",
       "       [ -3.77322501e-03],\n",
       "       [ -4.26648885e-01],\n",
       "       [ -4.40514028e-01]], dtype=float32)"
      ]
     },
     "execution_count": 8,
     "metadata": {},
     "output_type": "execute_result"
    }
   ],
   "source": [
    "# Create a TensorFlow session to run parts of the graph\n",
    "with tf.Session() as sess:\n",
    "    theta_value = theta.eval()\n",
    "    \n",
    "theta_value"
   ]
  },
  {
   "cell_type": "code",
   "execution_count": 62,
   "metadata": {
    "collapsed": true
   },
   "outputs": [],
   "source": [
    "tf.reset_default_graph()"
   ]
  },
  {
   "cell_type": "markdown",
   "metadata": {},
   "source": [
    "## Linear Regression using Stochastic Gradient Descent"
   ]
  },
  {
   "cell_type": "code",
   "execution_count": 31,
   "metadata": {
    "collapsed": true
   },
   "outputs": [],
   "source": [
    "# Gradient Descent requires scaling the feature vectors first\n",
    "from sklearn.preprocessing import StandardScaler\n",
    "scaler = StandardScaler()\n",
    "scaled_housing_data = scaler.fit_transform(housing.data)\n",
    "scaled_housing_data_plus_bias = np.c_[np.ones((m, 1)), scaled_housing_data]"
   ]
  },
  {
   "cell_type": "code",
   "execution_count": 70,
   "metadata": {},
   "outputs": [
    {
     "name": "stdout",
     "output_type": "stream",
     "text": [
      "Epoch  0 MSE = 13.061\n",
      "Epoch  100 MSE = 1.22624\n",
      "Epoch  200 MSE = 0.73448\n",
      "Epoch  300 MSE = 0.674533\n",
      "Epoch  400 MSE = 0.641452\n",
      "Epoch  500 MSE = 0.616325\n",
      "Epoch  600 MSE = 0.596765\n",
      "Epoch  700 MSE = 0.581487\n",
      "Epoch  800 MSE = 0.569535\n",
      "Epoch  900 MSE = 0.56017\n",
      "Epoch  1000 MSE = 0.552818\n",
      "Epoch  1100 MSE = 0.547036\n",
      "Epoch  1200 MSE = 0.542478\n",
      "Epoch  1300 MSE = 0.538878\n",
      "Epoch  1400 MSE = 0.536029\n",
      "Epoch  1500 MSE = 0.533766\n",
      "Epoch  1600 MSE = 0.531965\n",
      "Epoch  1700 MSE = 0.530529\n",
      "Epoch  1800 MSE = 0.529378\n",
      "Epoch  1900 MSE = 0.528456\n",
      "\n",
      "Best theta: \n",
      " [[ 2.06855083]\n",
      " [ 0.85623604]\n",
      " [ 0.13885899]\n",
      " [-0.28754085]\n",
      " [ 0.31146556]\n",
      " [ 0.00246625]\n",
      " [-0.04159471]\n",
      " [-0.72831511]\n",
      " [-0.70070046]]\n"
     ]
    }
   ],
   "source": [
    "n_epochs = 2000\n",
    "learning_rate = 0.008\n",
    "\n",
    "# Define two constants\n",
    "X = tf.constant(scaled_housing_data_plus_bias, dtype=tf.float32, name=\"X\")\n",
    "y = tf.constant(housing.target.reshape(-1,1), dtype=tf.float32, name=\"y\")\n",
    "# Define theta variable, set initial random weights \n",
    "theta = tf.Variable(tf.random_uniform([n + 1, 1], -1.0, 1.0), name=\"theta\")\n",
    "# Predictions\n",
    "y_pred = tf.matmul(X, theta, name=\"predictions\")\n",
    "# Error: predicted values - actual values\n",
    "error = y_pred - y\n",
    "# Mean Square Error\n",
    "mse = tf.reduce_mean(tf.square(error), name=\"mse\")\n",
    "\n",
    "# TensorFlow computes the gradients for you and\n",
    "# provides a number of optimizers out of the box, \n",
    "# including a Gradient Descent optimizer.\n",
    "optimizer = tf.train.GradientDescentOptimizer(learning_rate=learning_rate)\n",
    "training_op = optimizer.minimize(mse)\n",
    "\n",
    "# Set init node to initialize variables later\n",
    "init = tf.global_variables_initializer()\n",
    "\n",
    "# Start a session \n",
    "with tf.Session() as sess:\n",
    "    sess.run(init) # initialize variables\n",
    "    \n",
    "    for epoch in range(n_epochs):\n",
    "        if epoch % 100 == 0:\n",
    "            print(\"Epoch \", epoch, \"MSE =\", mse.eval())\n",
    "        sess.run(training_op) # run training operation\n",
    "        \n",
    "    best_theta = theta.eval()\n",
    "    \n",
    "print(\"\\nBest theta: \\n\", best_theta)"
   ]
  },
  {
   "cell_type": "code",
   "execution_count": null,
   "metadata": {
    "collapsed": true
   },
   "outputs": [],
   "source": []
  }
 ],
 "metadata": {
  "kernelspec": {
   "display_name": "Python 3",
   "language": "python",
   "name": "python3"
  },
  "language_info": {
   "codemirror_mode": {
    "name": "ipython",
    "version": 3
   },
   "file_extension": ".py",
   "mimetype": "text/x-python",
   "name": "python",
   "nbconvert_exporter": "python",
   "pygments_lexer": "ipython3",
   "version": "3.6.2"
  }
 },
 "nbformat": 4,
 "nbformat_minor": 2
}
